{
 "cells": [
  {
   "cell_type": "markdown",
   "id": "6e5c9f0f",
   "metadata": {},
   "source": [
    "## 数组的创建"
   ]
  },
  {
   "cell_type": "code",
   "execution_count": 8,
   "id": "b095bcb5",
   "metadata": {},
   "outputs": [
    {
     "name": "stdout",
     "output_type": "stream",
     "text": [
      "[1 2 3]\n"
     ]
    }
   ],
   "source": [
    "import numpy as np\n",
    "# 创建数组\n",
    "arr1 = np.array([1,2,3])\n",
    "print(arr1)"
   ]
  },
  {
   "cell_type": "code",
   "execution_count": 10,
   "id": "ad3df735",
   "metadata": {},
   "outputs": [
    {
     "name": "stdout",
     "output_type": "stream",
     "text": [
      "['a' 'b' 'c']\n"
     ]
    }
   ],
   "source": [
    "# 通过python list创建\n",
    "list_1 = ['a','b','c']\n",
    "array2 = np.array(list_1)\n",
    "print(array2)"
   ]
  },
  {
   "cell_type": "code",
   "execution_count": 11,
   "id": "3c0ff48d",
   "metadata": {},
   "outputs": [
    {
     "name": "stdout",
     "output_type": "stream",
     "text": [
      "[['1' '2' '3']\n",
      " ['a' 'b' 'c']]\n"
     ]
    }
   ],
   "source": [
    "# 创建二位数组\n",
    "list_2 = ['d','e','f']\n",
    "array3 = np.array([arr1,array2])\n",
    "print(array3)"
   ]
  },
  {
   "cell_type": "code",
   "execution_count": 12,
   "id": "513995d2",
   "metadata": {},
   "outputs": [
    {
     "name": "stdout",
     "output_type": "stream",
     "text": [
      "(2, 3)\n",
      "6\n"
     ]
    }
   ],
   "source": [
    "#数组的shape , size\n",
    "print(array3.shape) # 返回2行3列\n",
    "print(array3.size) # 6个长度"
   ]
  },
  {
   "cell_type": "code",
   "execution_count": 16,
   "id": "1cdc98bc",
   "metadata": {},
   "outputs": [
    {
     "name": "stdout",
     "output_type": "stream",
     "text": [
      "<U1\n",
      "int64\n",
      "float64\n"
     ]
    }
   ],
   "source": [
    "# 数组的数据类型\n",
    "print(array2.dtype)\n",
    "print(arr1.dtype)\n",
    "array4 = np.array([2,3,4.0])\n",
    "print(array4.dtype)\n"
   ]
  },
  {
   "cell_type": "code",
   "execution_count": 17,
   "id": "6fdc92df",
   "metadata": {},
   "outputs": [
    {
     "name": "stdout",
     "output_type": "stream",
     "text": [
      "[1 2 3 4 5 6 7 8 9]\n",
      "[1 4 7]\n"
     ]
    }
   ],
   "source": [
    "# 通过np.arange创建数组\n",
    "array5 = np.arange(1,10) # 返回1-10的一维数组\n",
    "print(array5)\n",
    "array6 = np.arange(1,10,3) # 返回1-10的一维数组,步长为3. \n",
    "print(array6)"
   ]
  },
  {
   "cell_type": "code",
   "execution_count": 19,
   "id": "1c56bd4b",
   "metadata": {},
   "outputs": [
    {
     "name": "stdout",
     "output_type": "stream",
     "text": [
      "[0. 0. 0. 0. 0.]\n",
      "[[0. 0. 0. 0.]\n",
      " [0. 0. 0. 0.]\n",
      " [0. 0. 0. 0.]]\n"
     ]
    }
   ],
   "source": [
    "# 创建一个全0数组\n",
    "zero_array_1 = np.zeros(5) #创建一个1维的全0数组，5个元素\n",
    "print(zero_array_1)\n",
    "zero_arra_2 = np.zeros([3,4]) #创建一个3行4列的全0矩阵\n",
    "print(zero_arra_2)"
   ]
  },
  {
   "cell_type": "code",
   "execution_count": 22,
   "id": "35368fda",
   "metadata": {},
   "outputs": [
    {
     "name": "stdout",
     "output_type": "stream",
     "text": [
      "[[1. 0. 0. 0. 0.]\n",
      " [0. 1. 0. 0. 0.]\n",
      " [0. 0. 1. 0. 0.]\n",
      " [0. 0. 0. 1. 0.]\n",
      " [0. 0. 0. 0. 1.]]\n",
      "float64\n"
     ]
    }
   ],
   "source": [
    "# 创建一个单位数组\n",
    "# 单位数组即对角线元素全为1，其他元素为0\n",
    "unit_array1 = np.eye(5)\n",
    "print(unit_array1)\n",
    "print(unit_array1.dtype)"
   ]
  },
  {
   "cell_type": "markdown",
   "id": "c28a15b2",
   "metadata": {},
   "source": [
    "## 数组的访问"
   ]
  },
  {
   "cell_type": "code",
   "execution_count": 26,
   "id": "13799120",
   "metadata": {},
   "outputs": [
    {
     "name": "stdout",
     "output_type": "stream",
     "text": [
      "2\n"
     ]
    },
    {
     "data": {
      "text/plain": [
       "array([3, 4])"
      ]
     },
     "execution_count": 26,
     "metadata": {},
     "output_type": "execute_result"
    }
   ],
   "source": [
    "#访问一维数组\n",
    "a = np.array([1,2,3,4,5,6])\n",
    "print(a[1]) # 根据index访问\n",
    "\n",
    "a[2:4] # 根据范围访问"
   ]
  },
  {
   "cell_type": "code",
   "execution_count": 32,
   "id": "2b67e498",
   "metadata": {},
   "outputs": [
    {
     "data": {
      "text/plain": [
       "6"
      ]
     },
     "execution_count": 32,
     "metadata": {},
     "output_type": "execute_result"
    }
   ],
   "source": [
    "# 访问多维数组\n",
    "b = np.array([[1,2,3],[4,5,6]])\n",
    "b\n",
    "# 访问第2行，第3列(6)\n",
    "b[1][2] # 等价 b[1,2]\n"
   ]
  },
  {
   "cell_type": "code",
   "execution_count": 35,
   "id": "4e49d096",
   "metadata": {},
   "outputs": [
    {
     "data": {
      "text/plain": [
       "array([[1, 2, 3],\n",
       "       [4, 5, 6],\n",
       "       [7, 8, 9]])"
      ]
     },
     "execution_count": 35,
     "metadata": {},
     "output_type": "execute_result"
    }
   ],
   "source": [
    "#多维数组切片\n",
    "c = np.array([[1,2,3],[4,5,6],[7,8,9]])\n",
    "c\n"
   ]
  },
  {
   "cell_type": "code",
   "execution_count": 37,
   "id": "4728a92d",
   "metadata": {},
   "outputs": [
    {
     "data": {
      "text/plain": [
       "array([[2, 3],\n",
       "       [5, 6]])"
      ]
     },
     "execution_count": 37,
     "metadata": {},
     "output_type": "execute_result"
    }
   ],
   "source": [
    "c[:2,1:] \n",
    "# :2 ,返回第0行到第2行  \n",
    "# 1: ,返回第2列到最后"
   ]
  },
  {
   "cell_type": "code",
   "execution_count": 40,
   "id": "f5ec50b6",
   "metadata": {},
   "outputs": [
    {
     "data": {
      "text/plain": [
       "array([[4],\n",
       "       [7]])"
      ]
     },
     "execution_count": 40,
     "metadata": {},
     "output_type": "execute_result"
    }
   ],
   "source": [
    "c[1:3,0:1] \n",
    "# 1:3 ,返回第2行到第3行  \n",
    "# 0:1 ,返回第1列"
   ]
  },
  {
   "cell_type": "code",
   "execution_count": 46,
   "id": "780ff5c7",
   "metadata": {},
   "outputs": [
    {
     "data": {
      "text/plain": [
       "array([-0.21351738, -0.50766358,  1.86305468, -1.09589387,  1.35627202,\n",
       "       -1.15981608,  0.60265335,  1.64240241,  0.00475568,  2.31984365])"
      ]
     },
     "execution_count": 46,
     "metadata": {},
     "output_type": "execute_result"
    }
   ],
   "source": [
    "# 快速创建数组\n",
    "random_1 = np.random.randn(10) ## 随机创建10个元素的一维数组\n",
    "random_1\n"
   ]
  },
  {
   "cell_type": "code",
   "execution_count": 47,
   "id": "1204ce62",
   "metadata": {},
   "outputs": [
    {
     "data": {
      "text/plain": [
       "7"
      ]
     },
     "execution_count": 47,
     "metadata": {},
     "output_type": "execute_result"
    }
   ],
   "source": []
  },
  {
   "cell_type": "code",
   "execution_count": 59,
   "id": "cb89a0b6",
   "metadata": {},
   "outputs": [
    {
     "data": {
      "text/plain": [
       "array([[2, 6, 5, 3],\n",
       "       [2, 3, 5, 3],\n",
       "       [4, 0, 5, 1]])"
      ]
     },
     "execution_count": 59,
     "metadata": {},
     "output_type": "execute_result"
    }
   ],
   "source": [
    "np.random.randint(10 , size=[3,4]) # 随机生成一个3行4列 10以内的数组\n",
    "\n"
   ]
  },
  {
   "cell_type": "markdown",
   "id": "45db2c2b",
   "metadata": {},
   "source": [
    "## 数组与矩阵计算"
   ]
  },
  {
   "cell_type": "code",
   "execution_count": 65,
   "id": "99acdce7",
   "metadata": {},
   "outputs": [
    {
     "data": {
      "text/plain": [
       "array([[8, 3, 3, 8, 3],\n",
       "       [8, 5, 6, 8, 2],\n",
       "       [5, 5, 9, 0, 2],\n",
       "       [7, 2, 8, 9, 6]])"
      ]
     },
     "execution_count": 65,
     "metadata": {},
     "output_type": "execute_result"
    }
   ],
   "source": [
    "a = np.random.randint(10, size=20).reshape(4,5)\n",
    "a"
   ]
  },
  {
   "cell_type": "code",
   "execution_count": 66,
   "id": "21e744e6",
   "metadata": {},
   "outputs": [
    {
     "data": {
      "text/plain": [
       "array([[3, 8, 4, 6, 6],\n",
       "       [1, 9, 1, 4, 6],\n",
       "       [9, 0, 3, 8, 6],\n",
       "       [0, 7, 3, 4, 3]])"
      ]
     },
     "execution_count": 66,
     "metadata": {},
     "output_type": "execute_result"
    }
   ],
   "source": [
    "b= np.random.randint(10, size=20).reshape(4,5)\n",
    "b"
   ]
  },
  {
   "cell_type": "code",
   "execution_count": 67,
   "id": "20ac4409",
   "metadata": {},
   "outputs": [
    {
     "data": {
      "text/plain": [
       "array([[11, 11,  7, 14,  9],\n",
       "       [ 9, 14,  7, 12,  8],\n",
       "       [14,  5, 12,  8,  8],\n",
       "       [ 7,  9, 11, 13,  9]])"
      ]
     },
     "execution_count": 67,
     "metadata": {},
     "output_type": "execute_result"
    }
   ],
   "source": [
    "a+b # 数组的加减法是对矩阵内对应元素的加减乘除"
   ]
  },
  {
   "cell_type": "code",
   "execution_count": 68,
   "id": "aa4d1d27",
   "metadata": {},
   "outputs": [
    {
     "data": {
      "text/plain": [
       "array([[ 5, -5, -1,  2, -3],\n",
       "       [ 7, -4,  5,  4, -4],\n",
       "       [-4,  5,  6, -8, -4],\n",
       "       [ 7, -5,  5,  5,  3]])"
      ]
     },
     "execution_count": 68,
     "metadata": {},
     "output_type": "execute_result"
    }
   ],
   "source": [
    "a-b"
   ]
  },
  {
   "cell_type": "code",
   "execution_count": 69,
   "id": "fddfa53e",
   "metadata": {},
   "outputs": [
    {
     "data": {
      "text/plain": [
       "array([[24, 24, 12, 48, 18],\n",
       "       [ 8, 45,  6, 32, 12],\n",
       "       [45,  0, 27,  0, 12],\n",
       "       [ 0, 14, 24, 36, 18]])"
      ]
     },
     "execution_count": 69,
     "metadata": {},
     "output_type": "execute_result"
    }
   ],
   "source": [
    "a*b"
   ]
  },
  {
   "cell_type": "code",
   "execution_count": 75,
   "id": "e6753bc3",
   "metadata": {},
   "outputs": [
    {
     "name": "stdout",
     "output_type": "stream",
     "text": [
      "[2 6 1 8 7]\n"
     ]
    },
    {
     "data": {
      "text/plain": [
       "array([122, 130,  63, 148])"
      ]
     },
     "execution_count": 75,
     "metadata": {},
     "output_type": "execute_result"
    }
   ],
   "source": [
    "c = np.random.randint(10 , size=5)\n",
    "print(c)\n",
    "'''\n",
    "array([[8, 3, 3, 8, 3],\n",
    "       [8, 5, 6, 8, 2],\n",
    "       [5, 5, 9, 0, 2],\n",
    "       [7, 2, 8, 9, 6]])\n",
    "'''\n",
    "\n",
    "a.dot(c)"
   ]
  },
  {
   "cell_type": "code",
   "execution_count": 76,
   "id": "7a07b139",
   "metadata": {},
   "outputs": [
    {
     "name": "stderr",
     "output_type": "stream",
     "text": [
      "/var/folders/bd/m33253h9065gn76s2j8015340000gn/T/ipykernel_2509/1286629031.py:1: RuntimeWarning: divide by zero encountered in divide\n",
      "  a / b\n"
     ]
    },
    {
     "data": {
      "text/plain": [
       "array([[2.66666667, 0.375     , 0.75      , 1.33333333, 0.5       ],\n",
       "       [8.        , 0.55555556, 6.        , 2.        , 0.33333333],\n",
       "       [0.55555556,        inf, 3.        , 0.        , 0.33333333],\n",
       "       [       inf, 0.28571429, 2.66666667, 2.25      , 2.        ]])"
      ]
     },
     "execution_count": 76,
     "metadata": {},
     "output_type": "execute_result"
    }
   ],
   "source": [
    "a / b"
   ]
  },
  {
   "cell_type": "markdown",
   "id": "b28b72f1",
   "metadata": {},
   "source": [
    "## 矩阵运算\n"
   ]
  },
  {
   "cell_type": "code",
   "execution_count": 79,
   "id": "525f7fb8",
   "metadata": {},
   "outputs": [
    {
     "data": {
      "text/plain": [
       "matrix([[1, 2, 3],\n",
       "        [4, 5, 6]])"
      ]
     },
     "execution_count": 79,
     "metadata": {},
     "output_type": "execute_result"
    }
   ],
   "source": [
    "#创建矩阵通过mat()\n",
    "m = np.mat([[1,2,3],[4,5,6]])\n",
    "m"
   ]
  },
  {
   "cell_type": "code",
   "execution_count": 80,
   "id": "5bc3918b",
   "metadata": {},
   "outputs": [
    {
     "data": {
      "text/plain": [
       "matrix([[8, 3, 3, 8, 3],\n",
       "        [8, 5, 6, 8, 2],\n",
       "        [5, 5, 9, 0, 2],\n",
       "        [7, 2, 8, 9, 6]])"
      ]
     },
     "execution_count": 80,
     "metadata": {},
     "output_type": "execute_result"
    }
   ],
   "source": [
    "# 将array转成矩阵\n",
    "A = np.mat(a)\n",
    "A"
   ]
  },
  {
   "cell_type": "code",
   "execution_count": 81,
   "id": "ba858b90",
   "metadata": {},
   "outputs": [
    {
     "data": {
      "text/plain": [
       "matrix([[3, 8, 4, 6, 6],\n",
       "        [1, 9, 1, 4, 6],\n",
       "        [9, 0, 3, 8, 6],\n",
       "        [0, 7, 3, 4, 3]])"
      ]
     },
     "execution_count": 81,
     "metadata": {},
     "output_type": "execute_result"
    }
   ],
   "source": [
    "B = np.mat(b)\n",
    "B"
   ]
  },
  {
   "cell_type": "code",
   "execution_count": 82,
   "id": "ae56928a",
   "metadata": {},
   "outputs": [
    {
     "data": {
      "text/plain": [
       "matrix([[11, 11,  7, 14,  9],\n",
       "        [ 9, 14,  7, 12,  8],\n",
       "        [14,  5, 12,  8,  8],\n",
       "        [ 7,  9, 11, 13,  9]])"
      ]
     },
     "execution_count": 82,
     "metadata": {},
     "output_type": "execute_result"
    }
   ],
   "source": [
    "A+B"
   ]
  },
  {
   "cell_type": "code",
   "execution_count": 83,
   "id": "1940cdb5",
   "metadata": {},
   "outputs": [
    {
     "data": {
      "text/plain": [
       "matrix([[ 5, -5, -1,  2, -3],\n",
       "        [ 7, -4,  5,  4, -4],\n",
       "        [-4,  5,  6, -8, -4],\n",
       "        [ 7, -5,  5,  5,  3]])"
      ]
     },
     "execution_count": 83,
     "metadata": {},
     "output_type": "execute_result"
    }
   ],
   "source": [
    "A - B"
   ]
  },
  {
   "cell_type": "markdown",
   "id": "9070b524",
   "metadata": {},
   "source": [
    "## Array函数\n"
   ]
  },
  {
   "cell_type": "code",
   "execution_count": 85,
   "id": "873ba9b8",
   "metadata": {},
   "outputs": [
    {
     "data": {
      "text/plain": [
       "array([[7, 7, 8, 0, 3],\n",
       "       [4, 9, 3, 9, 6],\n",
       "       [5, 2, 6, 2, 4],\n",
       "       [2, 0, 7, 2, 3]])"
      ]
     },
     "execution_count": 85,
     "metadata": {},
     "output_type": "execute_result"
    }
   ],
   "source": [
    "arr = np.random.randint(10, size=[4,5])  # 等价于 arr = np.random.rantint(10, size=20).reshape(4,5)\n",
    "arr"
   ]
  },
  {
   "cell_type": "code",
   "execution_count": 87,
   "id": "d774cbdb",
   "metadata": {},
   "outputs": [
    {
     "data": {
      "text/plain": [
       "array([0, 2, 3, 4, 5, 6, 7, 8, 9])"
      ]
     },
     "execution_count": 87,
     "metadata": {},
     "output_type": "execute_result"
    }
   ],
   "source": [
    "np.unique(arr)  #返回唯一数"
   ]
  },
  {
   "cell_type": "code",
   "execution_count": 89,
   "id": "ee3b0ed2",
   "metadata": {},
   "outputs": [
    {
     "data": {
      "text/plain": [
       "array([18, 18, 24, 13, 16])"
      ]
     },
     "execution_count": 89,
     "metadata": {},
     "output_type": "execute_result"
    }
   ],
   "source": [
    "sum(arr) # 行相加"
   ]
  },
  {
   "cell_type": "code",
   "execution_count": 90,
   "id": "e14c29d5",
   "metadata": {},
   "outputs": [
    {
     "data": {
      "text/plain": [
       "25"
      ]
     },
     "execution_count": 90,
     "metadata": {},
     "output_type": "execute_result"
    }
   ],
   "source": [
    "sum(arr[0]) ##返回第一行加和"
   ]
  },
  {
   "cell_type": "code",
   "execution_count": 91,
   "id": "bf2b1ccf",
   "metadata": {},
   "outputs": [
    {
     "data": {
      "text/plain": [
       "18"
      ]
     },
     "execution_count": 91,
     "metadata": {},
     "output_type": "execute_result"
    }
   ],
   "source": [
    "sum(arr[:,0])   # 第一列加和 [:,0]  不指定行，第一列"
   ]
  },
  {
   "cell_type": "code",
   "execution_count": 93,
   "id": "2958901e",
   "metadata": {},
   "outputs": [
    {
     "data": {
      "text/plain": [
       "9"
      ]
     },
     "execution_count": 93,
     "metadata": {},
     "output_type": "execute_result"
    }
   ],
   "source": [
    "arr.max()\n"
   ]
  },
  {
   "cell_type": "code",
   "execution_count": 95,
   "id": "5cf513be",
   "metadata": {},
   "outputs": [
    {
     "data": {
      "text/plain": [
       "6"
      ]
     },
     "execution_count": 95,
     "metadata": {},
     "output_type": "execute_result"
    }
   ],
   "source": [
    "max(arr[2]) ##返回第三行最大值"
   ]
  },
  {
   "cell_type": "code",
   "execution_count": 96,
   "id": "e554e04d",
   "metadata": {},
   "outputs": [
    {
     "data": {
      "text/plain": [
       "8"
      ]
     },
     "execution_count": 96,
     "metadata": {},
     "output_type": "execute_result"
    }
   ],
   "source": [
    "max(arr[:,2]) ##返回第三列最大值"
   ]
  },
  {
   "cell_type": "markdown",
   "id": "7efab055",
   "metadata": {},
   "source": [
    "## 序列化array"
   ]
  },
  {
   "cell_type": "code",
   "execution_count": 101,
   "id": "f4e3d852",
   "metadata": {},
   "outputs": [],
   "source": [
    "import pickle\n",
    "# 通过传统方式读 写数组到文件\n",
    "x = np.arange(10)\n",
    "\n",
    "\n"
   ]
  },
  {
   "cell_type": "code",
   "execution_count": 102,
   "id": "8d224eb9",
   "metadata": {},
   "outputs": [
    {
     "data": {
      "text/plain": [
       "array([0, 1, 2, 3, 4, 5, 6, 7, 8, 9])"
      ]
     },
     "execution_count": 102,
     "metadata": {},
     "output_type": "execute_result"
    }
   ],
   "source": [
    "x"
   ]
  },
  {
   "cell_type": "code",
   "execution_count": 106,
   "id": "309290fa",
   "metadata": {},
   "outputs": [],
   "source": [
    "f = open('x.pickle','wb')\n",
    "pickle.dump(x,f) #写入到x.pickel文件"
   ]
  },
  {
   "cell_type": "code",
   "execution_count": 107,
   "id": "25d068d1",
   "metadata": {},
   "outputs": [
    {
     "name": "stdout",
     "output_type": "stream",
     "text": [
      "numpy.ipynb x.pickle\r\n"
     ]
    }
   ],
   "source": [
    "!ls\n",
    "    "
   ]
  },
  {
   "cell_type": "code",
   "execution_count": 108,
   "id": "16ad0a8a",
   "metadata": {},
   "outputs": [
    {
     "data": {
      "text/plain": [
       "array([0, 1, 2, 3, 4, 5, 6, 7, 8, 9])"
      ]
     },
     "execution_count": 108,
     "metadata": {},
     "output_type": "execute_result"
    }
   ],
   "source": [
    "# 读取文件\n",
    "f = open('x.pickle','rb')\n",
    "y = pickle.load(f)\n",
    "y"
   ]
  },
  {
   "cell_type": "code",
   "execution_count": 113,
   "id": "d1272bed",
   "metadata": {},
   "outputs": [],
   "source": [
    "## 使用numpy方法保存\n",
    "np.save('write.npy',x)"
   ]
  },
  {
   "cell_type": "code",
   "execution_count": 114,
   "id": "113b04da",
   "metadata": {},
   "outputs": [
    {
     "name": "stdout",
     "output_type": "stream",
     "text": [
      "numpy.ipynb      write.npy        write.pickle.npy x.pickle\r\n"
     ]
    }
   ],
   "source": [
    "!ls\n"
   ]
  },
  {
   "cell_type": "code",
   "execution_count": 115,
   "id": "5c92c2ae",
   "metadata": {},
   "outputs": [],
   "source": [
    "z = np.load('write.npy')"
   ]
  },
  {
   "cell_type": "code",
   "execution_count": 116,
   "id": "c15797a0",
   "metadata": {},
   "outputs": [
    {
     "data": {
      "text/plain": [
       "array([0, 1, 2, 3, 4, 5, 6, 7, 8, 9])"
      ]
     },
     "execution_count": 116,
     "metadata": {},
     "output_type": "execute_result"
    }
   ],
   "source": [
    "z"
   ]
  },
  {
   "cell_type": "code",
   "execution_count": null,
   "id": "89aa89dd",
   "metadata": {},
   "outputs": [],
   "source": []
  }
 ],
 "metadata": {
  "kernelspec": {
   "display_name": "Python 3 (ipykernel)",
   "language": "python",
   "name": "python3"
  },
  "language_info": {
   "codemirror_mode": {
    "name": "ipython",
    "version": 3
   },
   "file_extension": ".py",
   "mimetype": "text/x-python",
   "name": "python",
   "nbconvert_exporter": "python",
   "pygments_lexer": "ipython3",
   "version": "3.11.5"
  }
 },
 "nbformat": 4,
 "nbformat_minor": 5
}
