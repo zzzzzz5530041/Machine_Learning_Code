{
 "cells": [
  {
   "cell_type": "code",
   "execution_count": 23,
   "id": "ff9da5d7-77d8-4764-8492-9bc211a5ccc6",
   "metadata": {
    "tags": []
   },
   "outputs": [
    {
     "data": {
      "text/plain": [
       "39.736632972611055"
      ]
     },
     "execution_count": 23,
     "metadata": {},
     "output_type": "execute_result"
    }
   ],
   "source": [
    "import numpy as np\n",
    "import random\n",
    "import numpy as np\n",
    "import matplotlib\n",
    "from matplotlib import pyplot\n",
    "from matplotlib import pyplot as plt\n",
    "\n",
    "'''\n",
    "The following is a dataset of houses with sizes (in square feet) and prices (in dollars).\n",
    "size   price\n",
    "100    200\n",
    "200    475\n",
    "200    400\n",
    "250    520\n",
    "325    735\n",
    "\n",
    "Suppose we have trained the model where the prediction for the price of the house based on size \n",
    "is the following \n",
    "    pˆ = 2s + 50\n",
    "\n",
    "a. Calculate the predictions that this model makes on the dataset.\n",
    "b. Calculate the mean absolute error of this model.\n",
    "c. Calculate the root mean square error of this model.\n",
    "'''\n",
    "\n",
    "features =np.array([100,200,200,250,325])\n",
    "labels = np.array([200,475,400,520,735])\n",
    "slop = 2\n",
    "bias = 51\n",
    "\n",
    "def predict_price(size):\n",
    "    return slop*size+bias\n",
    "predict_price(500)\n",
    "    \n",
    "### Error Function\n",
    "# Root Mean Squared Error\n",
    "# 均方根误差，RMSE）是衡量模型预测值与实际观测值之间差异的一种常用方法。\n",
    "#它表示观测值与估计值之间偏差的平方的均值的平方根。RMSE 越小，表示模型的预测精度越高。\n",
    "# 公式 rmse = 根号下(y-y^)平方的加和/N\n",
    "# 这个公式计算了 预测值与实际值之间差的平方的平均值，然后取平方根，得到的结果就是均方根误差。\n",
    "def rmse(labels, predictions):\n",
    "    n = len(labels) ## number\n",
    "    differences = np.subtract(labels, predictions) ##极差  真实值和预计值的差\n",
    "    return np.sqrt(1.0/n * (np.dot(differences, differences)))\n",
    "    \n",
    "#np.dot(differences, differences)：计算differences数组的点积，即先对differences数组中的每个元素进行平方，然后将所有平方值相加，得到误差平方和。\n",
    "# np.sqrt 开根号\n",
    "def rmse(predicts,labels):\n",
    "    n=len(predicts)\n",
    "    diff = np.subtract(labels,predicts) ##计算极差\n",
    "    dot_product = np.dot(diff,diff)# 点积\n",
    "    average = dot_product/n\n",
    "    result = np.sqrt(average)\n",
    "    return result\n",
    "\n",
    "def predict_price(size):\n",
    "    return slop*size+bias\n",
    "\n",
    "## 获得所有预测值\n",
    "def predict_all_prices(features):\n",
    "    predicts=[]\n",
    "    for feature in features:\n",
    "        predicts.append(predict_price(feature))\n",
    "    return predicts\n",
    "\n",
    "\n",
    "def calculate_rmse():\n",
    "        return rmse(predict_all_prices(features),labels)\n",
    "        \n",
    "calculate_rmse()\n",
    "\n",
    "\n",
    "\n",
    "\n",
    "\n",
    "\n",
    "\n"
   ]
  },
  {
   "cell_type": "code",
   "execution_count": null,
   "id": "c2c6ab33-08b7-4c45-859c-fef62db2baea",
   "metadata": {},
   "outputs": [],
   "source": []
  },
  {
   "cell_type": "code",
   "execution_count": null,
   "id": "822aa92d-81fa-487e-9c18-7643158ef6d9",
   "metadata": {},
   "outputs": [],
   "source": []
  },
  {
   "cell_type": "code",
   "execution_count": null,
   "id": "4127732e-6c93-4ed3-a66a-c875f553b84d",
   "metadata": {},
   "outputs": [],
   "source": []
  }
 ],
 "metadata": {
  "kernelspec": {
   "display_name": "Python 3 (ipykernel)",
   "language": "python",
   "name": "python3"
  },
  "language_info": {
   "codemirror_mode": {
    "name": "ipython",
    "version": 3
   },
   "file_extension": ".py",
   "mimetype": "text/x-python",
   "name": "python",
   "nbconvert_exporter": "python",
   "pygments_lexer": "ipython3",
   "version": "3.11.5"
  }
 },
 "nbformat": 4,
 "nbformat_minor": 5
}
